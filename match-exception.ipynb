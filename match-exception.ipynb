{
 "cells": [
  {
   "cell_type": "markdown",
   "metadata": {},
   "source": [
    "## Scala 模式匹配\n",
    "Scala 提供了强大的模式匹配机制，一个模式匹配包含了一系列备选项，每个都开始于关键字 `case`。每个备选项都包含了一个模式及一到多个表达式。箭头符号 `=>` 隔开了模式和表达式。"
   ]
  },
  {
   "cell_type": "code",
   "execution_count": 1,
   "metadata": {},
   "outputs": [
    {
     "name": "stdout",
     "output_type": "stream",
     "text": [
      "many\n"
     ]
    },
    {
     "data": {
      "text/plain": [
       "defined \u001b[32mfunction\u001b[39m \u001b[36mmatchTest\u001b[39m"
      ]
     },
     "execution_count": 1,
     "metadata": {},
     "output_type": "execute_result"
    }
   ],
   "source": [
    "// 模式匹配实例\n",
    "def matchTest(x: Int): String = x match {\n",
    "    case 1 => \"one\"\n",
    "    case 2 => \"two\"\n",
    "    case _ => \"many\"\n",
    "}\n",
    "println(matchTest(3))"
   ]
  },
  {
   "cell_type": "markdown",
   "metadata": {},
   "source": [
    "`match` 对应 Java 里的 `switch`，但是写在选择器表达式之后。即： 选择器 `match {备选项}`。\n",
    "\n",
    "`match` 表达式通过以代码编写的先后次序尝试每个模式来完成计算，只要发现有一个匹配的 `case`，剩下的`case`不会继续匹配。"
   ]
  },
  {
   "cell_type": "code",
   "execution_count": 2,
   "metadata": {},
   "outputs": [
    {
     "name": "stdout",
     "output_type": "stream",
     "text": [
      "2\n",
      "many\n",
      "one\n",
      "scala.Int\n"
     ]
    },
    {
     "data": {
      "text/plain": [
       "defined \u001b[32mfunction\u001b[39m \u001b[36mmatchTest\u001b[39m"
      ]
     },
     "execution_count": 2,
     "metadata": {},
     "output_type": "execute_result"
    }
   ],
   "source": [
    "//不同数据类型的模式匹配\n",
    "def matchTest(x: Any): Any = x match {\n",
    "  case 1 => \"one\"\n",
    "  case \"two\" => 2\n",
    "  case y: Int => \"scala.Int\"\n",
    "  case _ => \"many\"\n",
    "}\n",
    "println(matchTest(\"two\"))\n",
    "println(matchTest(\"test\"))\n",
    "println(matchTest(1))\n",
    "println(matchTest(6))"
   ]
  },
  {
   "cell_type": "markdown",
   "metadata": {},
   "source": [
    "### 使用样例类\n",
    "使用了`case` 关键字的类定义就是就是样例类(case classes)，样例类是种特殊的类，经过优化以用于模式匹配。"
   ]
  },
  {
   "cell_type": "code",
   "execution_count": 3,
   "metadata": {},
   "outputs": [
    {
     "name": "stdout",
     "output_type": "stream",
     "text": [
      "Hi Alice!\n",
      "Hi Bob!\n",
      "Age: 32 year, name: Charlie?\n"
     ]
    },
    {
     "data": {
      "text/plain": [
       "defined \u001b[32mclass\u001b[39m \u001b[36mPerson\u001b[39m\r\n",
       "\u001b[36malice\u001b[39m: \u001b[32mPerson\u001b[39m = \u001b[33mPerson\u001b[39m(\u001b[32m\"Alice\"\u001b[39m, \u001b[32m25\u001b[39m)\r\n",
       "\u001b[36mbob\u001b[39m: \u001b[32mPerson\u001b[39m = \u001b[33mPerson\u001b[39m(\u001b[32m\"Bob\"\u001b[39m, \u001b[32m32\u001b[39m)\r\n",
       "\u001b[36mcharlie\u001b[39m: \u001b[32mPerson\u001b[39m = \u001b[33mPerson\u001b[39m(\u001b[32m\"Charlie\"\u001b[39m, \u001b[32m32\u001b[39m)"
      ]
     },
     "execution_count": 3,
     "metadata": {},
     "output_type": "execute_result"
    }
   ],
   "source": [
    "// 实例\n",
    "\n",
    "// 样例类\n",
    "case class Person(name: String, age: Int)\n",
    "\n",
    "val alice = new Person(\"Alice\", 25)\n",
    "val bob = new Person(\"Bob\", 32)\n",
    "val charlie = new Person(\"Charlie\", 32)\n",
    "\n",
    "\n",
    "for (person <- List(alice, bob, charlie)) {\n",
    "    person match {\n",
    "        case Person(\"Alice\", 25) => println(\"Hi Alice!\")\n",
    "        case Person(\"Bob\", 32) => println(\"Hi Bob!\")\n",
    "        case Person(name, age) =>\n",
    "           println(\"Age: \" + age + \" year, name: \" + name + \"?\")\n",
    "     }\n",
    "}"
   ]
  },
  {
   "cell_type": "markdown",
   "metadata": {},
   "source": [
    "## Scala 异常处理\n",
    "Scala 的异常处理和其它语言比如 Java 类似。\n",
    "\n",
    "Scala 的方法可以通过抛出异常的方法的方式来终止相关代码的运行，不必通过返回值。"
   ]
  },
  {
   "cell_type": "markdown",
   "metadata": {},
   "source": [
    "### 抛出异常\n",
    "Scala 抛出异常的方法和 Java一样，使用 `throw` 方法，例如，抛出一个新的参数异常：\n",
    "```scala\n",
    "throw new IllegalArgumentException\n",
    "```"
   ]
  },
  {
   "cell_type": "markdown",
   "metadata": {},
   "source": [
    "### 捕获异常\n",
    "异常捕捉的机制与其他语言中一样，如果有异常发生，`catch` 字句是按次序捕捉的。因此，在catch字句中，越具体的异常越要靠前，越普遍的异常越靠后。 如果抛出的异常不在catch字句中，该异常则无法处理，会被升级到调用者处。\n",
    "\n",
    "捕捉异常的 `catch` 子句，语法与其他语言中不太一样。在Scala里，借用了**模式匹配的思想来做异常的匹配**，因此，在`catch`的代码里，是一系列`case`字句，"
   ]
  },
  {
   "cell_type": "code",
   "execution_count": 4,
   "metadata": {},
   "outputs": [
    {
     "name": "stdout",
     "output_type": "stream",
     "text": [
      "Missing file exception\n"
     ]
    },
    {
     "data": {
      "text/plain": [
       "\u001b[32mimport \u001b[39m\u001b[36mjava.io.FileReader\n",
       "\u001b[39m\r\n",
       "\u001b[32mimport \u001b[39m\u001b[36mjava.io.FileNotFoundException\n",
       "\u001b[39m\r\n",
       "\u001b[32mimport \u001b[39m\u001b[36mjava.io.IOException\n",
       "\u001b[39m"
      ]
     },
     "execution_count": 4,
     "metadata": {},
     "output_type": "execute_result"
    }
   ],
   "source": [
    "import java.io.FileReader\n",
    "import java.io.FileNotFoundException\n",
    "import java.io.IOException\n",
    "try {\n",
    " val f = new FileReader(\"none-input.txt\")\n",
    "} catch {\n",
    " case ex: FileNotFoundException =>{\n",
    "    println(\"Missing file exception\")\n",
    " }\n",
    " case ex: IOException => {\n",
    "    println(\"IO Exception\")\n",
    " }\n",
    "}"
   ]
  },
  {
   "cell_type": "markdown",
   "metadata": {},
   "source": [
    "### finally 语句\n",
    "`finally` 语句用于执行不管是正常处理还是有异常发生时都需要执行的步骤"
   ]
  },
  {
   "cell_type": "code",
   "execution_count": 5,
   "metadata": {},
   "outputs": [
    {
     "name": "stdout",
     "output_type": "stream",
     "text": [
      "Missing file exception\n",
      "Exiting finally...\n"
     ]
    },
    {
     "data": {
      "text/plain": [
       "\u001b[32mimport \u001b[39m\u001b[36mjava.io.FileReader\n",
       "\u001b[39m\r\n",
       "\u001b[32mimport \u001b[39m\u001b[36mjava.io.FileNotFoundException\n",
       "\u001b[39m\r\n",
       "\u001b[32mimport \u001b[39m\u001b[36mjava.io.IOException\n",
       "\u001b[39m"
      ]
     },
     "execution_count": 5,
     "metadata": {},
     "output_type": "execute_result"
    }
   ],
   "source": [
    "import java.io.FileReader\n",
    "import java.io.FileNotFoundException\n",
    "import java.io.IOException\n",
    "try {\n",
    " val f = new FileReader(\"none-input.txt\")\n",
    "} catch {\n",
    " case ex: FileNotFoundException =>{\n",
    "    println(\"Missing file exception\")\n",
    " }\n",
    " case ex: IOException => {\n",
    "    println(\"IO Exception\")\n",
    " }\n",
    "} finally{\n",
    "    println(\"Exiting finally...\")\n",
    "}"
   ]
  }
 ],
 "metadata": {
  "kernelspec": {
   "display_name": "Scala",
   "language": "scala",
   "name": "scala"
  },
  "language_info": {
   "codemirror_mode": "text/x-scala",
   "file_extension": ".scala",
   "mimetype": "text/x-scala",
   "name": "scala",
   "nbconvert_exporter": "script",
   "version": "2.13.1"
  }
 },
 "nbformat": 4,
 "nbformat_minor": 4
}
