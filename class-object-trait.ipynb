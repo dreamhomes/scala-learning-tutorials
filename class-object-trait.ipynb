{
 "cells": [
  {
   "cell_type": "markdown",
   "metadata": {},
   "source": [
    "## Scala 类和对象\n",
    "Scala作为纯面向对象语言，其类定义学习的重要性不言而喻。\n",
    "\n",
    "类是对象的抽象，而对象是类的具体实例。类是抽象的，不占用内存，而对象是具体的，占用存储空间。\n",
    "\n",
    "Scala中的类不声明为public，一个Scala源文件中可以有多个类。Scala 的类定义可以有参数，称为类参数，如下面的 `xc`, `yc`，类参数在整个类中都可以访问。可以使用 `new` 关键字来创建类的对象。"
   ]
  },
  {
   "cell_type": "code",
   "execution_count": 1,
   "metadata": {},
   "outputs": [
    {
     "name": "stdout",
     "output_type": "stream",
     "text": [
      "x 的坐标点: 20\n",
      "y 的坐标点: 30\n"
     ]
    },
    {
     "data": {
      "text/plain": [
       "\u001b[32mimport \u001b[39m\u001b[36mjava.io._\n",
       "\n",
       "\u001b[39m\r\n",
       "defined \u001b[32mclass\u001b[39m \u001b[36mPoint\u001b[39m\r\n",
       "\u001b[36mpt\u001b[39m: \u001b[32mPoint\u001b[39m = ammonite.$sess.cmd0$Helper$Point@16518f11"
      ]
     },
     "execution_count": 1,
     "metadata": {},
     "output_type": "execute_result"
    }
   ],
   "source": [
    "import java.io._\n",
    "\n",
    "class Point(xc: Int, yc: Int) {\n",
    "   var x: Int = xc\n",
    "   var y: Int = yc\n",
    "\n",
    "   def move(dx: Int, dy: Int) {\n",
    "      x = x + dx\n",
    "      y = y + dy\n",
    "      println (\"x 的坐标点: \" + x);\n",
    "      println (\"y 的坐标点: \" + y);\n",
    "   }\n",
    "}\n",
    "\n",
    "\n",
    "val pt = new Point(10, 20);\n",
    "// 移到一个新的位置\n",
    "pt.move(10, 10);"
   ]
  },
  {
   "cell_type": "markdown",
   "metadata": {},
   "source": [
    "## Scala 继承\n",
    "Scala继承一个基类跟Java很相似, Scala 使用 extends 关键字来继承一个类。但我们需要注意以下几点：\n",
    "- 重写一个非抽象方法必须使用 `override` 修饰符。\n",
    "- 只有主构造函数才可以往基类的构造函数里写参数。\n",
    "- 在子类中重写超类的抽象方法时，你不需要使用override关键字。\n",
    "- 继承会继承父类的所有属性和方法，Scala 只允许继承一个父类。"
   ]
  },
  {
   "cell_type": "code",
   "execution_count": 2,
   "metadata": {},
   "outputs": [
    {
     "name": "stdout",
     "output_type": "stream",
     "text": [
      "x 的坐标点 : 20\n",
      "y 的坐标点 : 30\n",
      "z 的坐标点 : 20\n"
     ]
    },
    {
     "data": {
      "text/plain": [
       "\u001b[32mimport \u001b[39m\u001b[36mjava.io._\n",
       "\n",
       "\u001b[39m\r\n",
       "defined \u001b[32mclass\u001b[39m \u001b[36mPoint\u001b[39m\r\n",
       "defined \u001b[32mclass\u001b[39m \u001b[36mLocation\u001b[39m\r\n",
       "\u001b[36mloc\u001b[39m: \u001b[32mLocation\u001b[39m = ammonite.$sess.cmd1$Helper$Location@47908636"
      ]
     },
     "execution_count": 2,
     "metadata": {},
     "output_type": "execute_result"
    }
   ],
   "source": [
    "import java.io._\n",
    "\n",
    "class Point(val xc: Int, val yc: Int) {\n",
    "   var x: Int = xc\n",
    "   var y: Int = yc\n",
    "   def move(dx: Int, dy: Int) {\n",
    "      x = x + dx\n",
    "      y = y + dy\n",
    "      println (\"x 的坐标点 : \" + x);\n",
    "      println (\"y 的坐标点 : \" + y);\n",
    "   }\n",
    "}\n",
    "\n",
    "class Location(override val xc: Int, override val yc: Int,val zc :Int) extends Point(xc, yc){\n",
    "   var z: Int = zc\n",
    "\n",
    "   def move(dx: Int, dy: Int, dz: Int) {\n",
    "      x = x + dx\n",
    "      y = y + dy\n",
    "      z = z + dz\n",
    "      println (\"x 的坐标点 : \" + x);\n",
    "      println (\"y 的坐标点 : \" + y);\n",
    "      println (\"z 的坐标点 : \" + z);\n",
    "   }\n",
    "}\n",
    "\n",
    "val loc = new Location(10, 20, 15);\n",
    "\n",
    "// 移到一个新的位置\n",
    "loc.move(10, 10, 5);"
   ]
  },
  {
   "cell_type": "markdown",
   "metadata": {},
   "source": [
    "Scala重写一个非抽象方法，必须用override修饰符。"
   ]
  },
  {
   "cell_type": "code",
   "execution_count": 3,
   "metadata": {},
   "outputs": [
    {
     "name": "stdout",
     "output_type": "stream",
     "text": [
      "ammonite.$sess.cmd2$Helper$Employee[name=Fred][salary=50000.0]\n"
     ]
    },
    {
     "data": {
      "text/plain": [
       "defined \u001b[32mclass\u001b[39m \u001b[36mPerson\u001b[39m\r\n",
       "defined \u001b[32mclass\u001b[39m \u001b[36mEmployee\u001b[39m\r\n",
       "\u001b[36mfred\u001b[39m: \u001b[32mEmployee\u001b[39m = ammonite.$sess.cmd2$Helper$Employee[name=Fred][salary=50000.0]"
      ]
     },
     "execution_count": 3,
     "metadata": {},
     "output_type": "execute_result"
    }
   ],
   "source": [
    "class Person {\n",
    "  var name = \"\"\n",
    "  override def toString = getClass.getName + \"[name=\" + name + \"]\"\n",
    "}\n",
    "\n",
    "class Employee extends Person {\n",
    "  var salary = 0.0\n",
    "  override def toString = super.toString + \"[salary=\" + salary + \"]\"\n",
    "}\n",
    "\n",
    "val fred = new Employee\n",
    "fred.name = \"Fred\"\n",
    "fred.salary = 50000\n",
    "println(fred)"
   ]
  },
  {
   "cell_type": "markdown",
   "metadata": {},
   "source": [
    "## Scala 单例对象\n",
    "在 Scala 中，是没有 `static` 这个东西的，但是它也为我们提供了单例模式的实现方法，那就是使用关键字 `object`。\n",
    "\n",
    "Scala 中使用单例模式时，除了定义的类之外，还要定义一个同名的 `object` 对象，它和类的区别是，object对象不能带参数。\n",
    "\n",
    "当单例对象与某个类共享同一个名称时，他被称作是这个类的伴生对象：companion object。你必须在同一个源文件里定义类和它的伴生对象。类被称为是这个单例对象的伴生类：companion class。类和它的伴生对象可以互相访问其私有成员。"
   ]
  },
  {
   "cell_type": "code",
   "execution_count": 4,
   "metadata": {},
   "outputs": [
    {
     "data": {
      "text/plain": [
       "defined \u001b[32mclass\u001b[39m \u001b[36mMarker\u001b[39m\r\n",
       "defined \u001b[32mobject\u001b[39m \u001b[36mMarker\u001b[39m"
      ]
     },
     "execution_count": 4,
     "metadata": {},
     "output_type": "execute_result"
    }
   ],
   "source": [
    "// 伴生对象实例\n",
    "\n",
    "// 私有构造方法\n",
    "class Marker private(val color:String) {\n",
    "\n",
    "  println(\"创建\" + this)\n",
    "  \n",
    "  override def toString(): String = \"颜色标记：\"+ color\n",
    "  \n",
    "}\n",
    "\n",
    "// 伴生对象，与类名字相同，可以访问类的私有属性和方法\n",
    "object Marker{\n",
    "  \n",
    "    private val markers: Map[String, Marker] = Map(\n",
    "      \"red\" -> new Marker(\"red\"),\n",
    "      \"blue\" -> new Marker(\"blue\"),\n",
    "      \"green\" -> new Marker(\"green\")\n",
    "    )\n",
    "    \n",
    "    def apply(color:String) = {\n",
    "      if(markers.contains(color)) markers(color) else null\n",
    "    }\n",
    "  \n",
    "    \n",
    "    def getMarker(color:String) = { \n",
    "      if(markers.contains(color)) markers(color) else null\n",
    "    }\n",
    "    def main(args: Array[String]) { \n",
    "        println(Marker(\"red\"))  \n",
    "        // 单例函数调用，省略了.(点)符号  \n",
    "        println(Marker getMarker \"blue\")  \n",
    "    }\n",
    "}"
   ]
  },
  {
   "cell_type": "markdown",
   "metadata": {},
   "source": [
    "## Scala Trait(特征)\n",
    "Scala Trait(特征) 相当于 `Java` 的接口，实际上它比接口还功能强大。\n",
    "\n",
    "与接口不同的是，它还可以定义属性和方法的实现。\n",
    "\n",
    "一般情况下Scala的类只能够继承单一父类，但是如果是 Trait(特征) 的话就可以继承多个，从结果来看就是实现了多重继承。\n",
    "\n",
    "Trait(特征) 定义的方式与类相似，但它使用的关键字是 `trait`。"
   ]
  },
  {
   "cell_type": "code",
   "execution_count": 5,
   "metadata": {},
   "outputs": [
    {
     "data": {
      "text/plain": [
       "defined \u001b[32mtrait\u001b[39m \u001b[36mEqual\u001b[39m"
      ]
     },
     "execution_count": 5,
     "metadata": {},
     "output_type": "execute_result"
    }
   ],
   "source": [
    "trait Equal {\n",
    "  def isEqual(x: Any): Boolean\n",
    "  def isNotEqual(x: Any): Boolean = !isEqual(x)\n",
    "}"
   ]
  },
  {
   "cell_type": "markdown",
   "metadata": {},
   "source": [
    "以上Trait(特征)由两个方法组成：`isEqual` 和 `isNotEqual`。`isEqual` 方法没有定义方法的实现，`isNotEqual` 定义了方法的实现。子类继承特征可以实现未被实现的方法。所以其实 Scala Trait(特征)更像 Java 的抽象类。"
   ]
  },
  {
   "cell_type": "code",
   "execution_count": 6,
   "metadata": {},
   "outputs": [
    {
     "name": "stdout",
     "output_type": "stream",
     "text": [
      "false\n",
      "true\n",
      "true\n"
     ]
    },
    {
     "data": {
      "text/plain": [
       "defined \u001b[32mtrait\u001b[39m \u001b[36mEqual\u001b[39m\r\n",
       "defined \u001b[32mclass\u001b[39m \u001b[36mPoint\u001b[39m\r\n",
       "\u001b[36mp1\u001b[39m: \u001b[32mPoint\u001b[39m = ammonite.$sess.cmd5$Helper$Point@717cca94\r\n",
       "\u001b[36mp2\u001b[39m: \u001b[32mPoint\u001b[39m = ammonite.$sess.cmd5$Helper$Point@3e2dcc66\r\n",
       "\u001b[36mp3\u001b[39m: \u001b[32mPoint\u001b[39m = ammonite.$sess.cmd5$Helper$Point@4bdaf722"
      ]
     },
     "execution_count": 6,
     "metadata": {},
     "output_type": "execute_result"
    }
   ],
   "source": [
    "// 完整实例\n",
    "trait Equal {\n",
    "  def isEqual(x: Any): Boolean\n",
    "  def isNotEqual(x: Any): Boolean = !isEqual(x)\n",
    "}\n",
    "\n",
    "class Point(xc: Int, yc: Int) extends Equal {\n",
    "  var x: Int = xc\n",
    "  var y: Int = yc\n",
    "  def isEqual(obj: Any) =\n",
    "    obj.isInstanceOf[Point] &&\n",
    "    obj.asInstanceOf[Point].x == x\n",
    "}\n",
    "\n",
    "\n",
    "val p1 = new Point(2, 3)\n",
    "val p2 = new Point(2, 4)\n",
    "val p3 = new Point(3, 3)\n",
    "\n",
    "println(p1.isNotEqual(p2))\n",
    "println(p1.isNotEqual(p3))\n",
    "println(p1.isNotEqual(2))"
   ]
  }
 ],
 "metadata": {
  "kernelspec": {
   "display_name": "Scala",
   "language": "scala",
   "name": "scala"
  },
  "language_info": {
   "codemirror_mode": "text/x-scala",
   "file_extension": ".scala",
   "mimetype": "text/x-scala",
   "name": "scala",
   "nbconvert_exporter": "script",
   "version": "2.13.1"
  }
 },
 "nbformat": 4,
 "nbformat_minor": 4
}
