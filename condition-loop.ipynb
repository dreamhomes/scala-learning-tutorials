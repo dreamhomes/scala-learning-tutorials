{
 "cells": [
  {
   "cell_type": "markdown",
   "metadata": {},
   "source": [
    "# Scala 条件语句与循环语句"
   ]
  },
  {
   "cell_type": "markdown",
   "metadata": {},
   "source": [
    "## 条件语句\n",
    "`if...else` 的语法格式如下：\n",
    "```java\n",
    "if(布尔表达式){\n",
    "   // 如果布尔表达式为 true 则执行该语句块\n",
    "}else{\n",
    "   // 如果布尔表达式为 false 则执行该语句块\n",
    "}\n",
    "```\n",
    "\n",
    "**嵌套格式**如下：\n",
    "```java\n",
    "if(布尔表达式 1){\n",
    "   // 如果布尔表达式 1 为 true 则执行该语句块\n",
    "}else if(布尔表达式 2){\n",
    "   // 如果布尔表达式 2 为 true 则执行该语句块\n",
    "}else if(布尔表达式 3){\n",
    "   // 如果布尔表达式 3 为 true 则执行该语句块\n",
    "}else {\n",
    "   // 如果以上条件都为 false 执行该语句块\n",
    "}\n",
    "```"
   ]
  },
  {
   "cell_type": "code",
   "execution_count": 1,
   "metadata": {},
   "outputs": [
    {
     "name": "stdout",
     "output_type": "stream",
     "text": [
      "X 的值为 30\n"
     ]
    },
    {
     "data": {
      "text/plain": [
       "\u001b[36mx\u001b[39m: \u001b[32mInt\u001b[39m = \u001b[32m30\u001b[39m"
      ]
     },
     "execution_count": 1,
     "metadata": {},
     "output_type": "execute_result"
    }
   ],
   "source": [
    "var x = 30;\n",
    "if( x == 10 ){\n",
    "    println(\"X 的值为 10\")\n",
    "}else if( x == 20 ){\n",
    "    println(\"X 的值为 20\")\n",
    "}else if( x == 30 ){\n",
    "    println(\"X 的值为 30\")\n",
    "}else{\n",
    "    println(\"无法判断 X 的值\")\n",
    "}"
   ]
  },
  {
   "cell_type": "markdown",
   "metadata": {},
   "source": [
    "## 循环语句\n",
    "Scala 语言提供了以下三种循环类型：\n",
    "- `while` 循环:运行一系列语句，如果条件为true，会重复运行，直到条件变为false。\n",
    "- `do...while`循环:类似 while 语句区别在于判断循环条件之前，先执行一次循环的代码块。\n",
    "- `for`循环:用来重复执行一系列语句直到达成特定条件达成，一般通过在每次循环完成后增加计数器的值来实现。\n",
    "\n",
    "Scala 不直接支持`break` 或 `continue` 语句，从 2.8 版本后提供了一种中断循环的方式：\n",
    "- `break`语句:中断循环"
   ]
  },
  {
   "cell_type": "markdown",
   "metadata": {},
   "source": [
    "### while 循环\n",
    "`while`语句形式：\n",
    "```java\n",
    "while(condition)\n",
    "{\n",
    "   statement(s);\n",
    "}\n",
    "```\n",
    "`do while` 语句形式:\n",
    "```java\n",
    "do {\n",
    "   statement(s);\n",
    "} while( condition );\n",
    "```"
   ]
  },
  {
   "cell_type": "code",
   "execution_count": 2,
   "metadata": {},
   "outputs": [
    {
     "name": "stdout",
     "output_type": "stream",
     "text": [
      "while a: 0\n",
      "while a: 1\n",
      "while a: 2\n",
      "while a: 3\n",
      "while a: 4\n",
      "do while a: 0\n",
      "do while a: 1\n",
      "do while a: 2\n",
      "do while a: 3\n",
      "do while a: 4\n"
     ]
    },
    {
     "data": {
      "text/plain": [
       "\u001b[36ma\u001b[39m: \u001b[32mInt\u001b[39m = \u001b[32m5\u001b[39m"
      ]
     },
     "execution_count": 2,
     "metadata": {},
     "output_type": "execute_result"
    }
   ],
   "source": [
    "//示例\n",
    "var a = 0;\n",
    "\n",
    "// while 循环执行\n",
    "while( a < 5 ){\n",
    " println( \"while a: \" + a );\n",
    " a = a + 1;\n",
    "}\n",
    "\n",
    "a = 0;\n",
    "// do 循环\n",
    "do{\n",
    " println( \"do while a: \" + a );\n",
    " a = a + 1;\n",
    "}while(a < 5)"
   ]
  },
  {
   "cell_type": "markdown",
   "metadata": {},
   "source": [
    "### for 循环\n",
    "语句形式：\n",
    "```java\n",
    "for( var x <- Range ){\n",
    "   statement(s);\n",
    "}\n",
    "```\n",
    "以上语法中，`Range` 可以是一个数字区间表示 `i to j` ，或者 `i until j`。左箭头 `<-` 用于为变量 `x` 赋值。"
   ]
  },
  {
   "cell_type": "code",
   "execution_count": 3,
   "metadata": {},
   "outputs": [
    {
     "name": "stdout",
     "output_type": "stream",
     "text": [
      "Value of a: 1\n",
      "Value of a: 2\n",
      "Value of a: 3\n",
      "Value of a: 4\n",
      "Value of a: 5\n"
     ]
    },
    {
     "data": {
      "text/html": [
       "<div class=\"jp-RenderedText\">\n",
       "<pre><code><span style=\"color: rgb(0, 187, 187)\"><span class=\"ansi-cyan-fg\">a</span></span>: <span style=\"color: rgb(0, 187, 0)\"><span class=\"ansi-green-fg\">Int</span></span> = <span style=\"color: rgb(0, 187, 0)\"><span class=\"ansi-green-fg\">0</span></span></code></pre>\n",
       "</div>"
      ],
      "text/plain": [
       "\u001b[36ma\u001b[39m: \u001b[32mInt\u001b[39m = \u001b[32m0\u001b[39m"
      ]
     },
     "metadata": {},
     "output_type": "display_data"
    }
   ],
   "source": [
    "//i to j 语法(包含 j)的实例:\n",
    "var a = 0\n",
    "// for 循环\n",
    "for( a <- 1 to 5){\n",
    " println( \"Value of a: \" + a )\n",
    "}"
   ]
  },
  {
   "cell_type": "code",
   "execution_count": 4,
   "metadata": {},
   "outputs": [
    {
     "name": "stdout",
     "output_type": "stream",
     "text": [
      "Value of a: 1\n",
      "Value of a: 2\n",
      "Value of a: 3\n",
      "Value of a: 4\n"
     ]
    },
    {
     "data": {
      "text/html": [
       "<div class=\"jp-RenderedText\">\n",
       "<pre><code><span style=\"color: rgb(0, 187, 187)\"><span class=\"ansi-cyan-fg\">a</span></span>: <span style=\"color: rgb(0, 187, 0)\"><span class=\"ansi-green-fg\">Int</span></span> = <span style=\"color: rgb(0, 187, 0)\"><span class=\"ansi-green-fg\">0</span></span></code></pre>\n",
       "</div>"
      ],
      "text/plain": [
       "\u001b[36ma\u001b[39m: \u001b[32mInt\u001b[39m = \u001b[32m0\u001b[39m"
      ]
     },
     "metadata": {},
     "output_type": "display_data"
    }
   ],
   "source": [
    "// i until j 语法(不包含 j)的实例:\n",
    "var a = 0\n",
    "// for 循环\n",
    "for( a <- 1 until 5){\n",
    " println( \"Value of a: \" + a )\n",
    "}"
   ]
  },
  {
   "cell_type": "code",
   "execution_count": 5,
   "metadata": {},
   "outputs": [
    {
     "name": "stdout",
     "output_type": "stream",
     "text": [
      "Value pair: 1 1\n",
      "Value pair: 1 2\n",
      "Value pair: 1 3\n",
      "Value pair: 2 1\n",
      "Value pair: 2 2\n",
      "Value pair: 2 3\n",
      "Value pair: 3 1\n",
      "Value pair: 3 2\n",
      "Value pair: 3 3\n"
     ]
    },
    {
     "data": {
      "text/html": [
       "<div class=\"jp-RenderedText\">\n",
       "<pre><code><span style=\"color: rgb(0, 187, 187)\"><span class=\"ansi-cyan-fg\">a</span></span>: <span style=\"color: rgb(0, 187, 0)\"><span class=\"ansi-green-fg\">Int</span></span> = <span style=\"color: rgb(0, 187, 0)\"><span class=\"ansi-green-fg\">0</span></span>\r\n",
       "<span style=\"color: rgb(0, 187, 187)\"><span class=\"ansi-cyan-fg\">b</span></span>: <span style=\"color: rgb(0, 187, 0)\"><span class=\"ansi-green-fg\">Int</span></span> = <span style=\"color: rgb(0, 187, 0)\"><span class=\"ansi-green-fg\">0</span></span></code></pre>\n",
       "</div>"
      ],
      "text/plain": [
       "\u001b[36ma\u001b[39m: \u001b[32mInt\u001b[39m = \u001b[32m0\u001b[39m\r\n",
       "\u001b[36mb\u001b[39m: \u001b[32mInt\u001b[39m = \u001b[32m0\u001b[39m"
      ]
     },
     "metadata": {},
     "output_type": "display_data"
    }
   ],
   "source": [
    "// 使用分号 (;) 来设置多个区间，它将迭代给定区间所有的可能值。\n",
    "var a = 0\n",
    "var b = 0\n",
    "// for 循环\n",
    "for( a <- 1 to 3; b <- 1 to 3){\n",
    "    println( \"Value pair: \" + a + ' ' + b)\n",
    "}"
   ]
  },
  {
   "cell_type": "markdown",
   "metadata": {},
   "source": [
    "### for 循环集合\n",
    "```java\n",
    "for( var x <- List ){\n",
    "   statement(s);\n",
    "}\n",
    "```\n",
    "以上语法中， `List` 变量是一个集合，`for` 循环会迭代所有集合的元素。"
   ]
  },
  {
   "cell_type": "code",
   "execution_count": 6,
   "metadata": {},
   "outputs": [
    {
     "name": "stdout",
     "output_type": "stream",
     "text": [
      "Value of a: 1\n",
      "Value of a: 2\n",
      "Value of a: 3\n",
      "Value of a: 4\n",
      "Value of a: 5\n"
     ]
    },
    {
     "data": {
      "text/plain": [
       "\u001b[36mnumList\u001b[39m: \u001b[32mList\u001b[39m[\u001b[32mInt\u001b[39m] = \u001b[33mList\u001b[39m(\u001b[32m1\u001b[39m, \u001b[32m2\u001b[39m, \u001b[32m3\u001b[39m, \u001b[32m4\u001b[39m, \u001b[32m5\u001b[39m)"
      ]
     },
     "execution_count": 6,
     "metadata": {},
     "output_type": "execute_result"
    }
   ],
   "source": [
    "// 使用 List() 来创建集合\n",
    "val numList = List(1,2,3,4,5)\n",
    "\n",
    "// for 循环\n",
    "for( a <- numList ){\n",
    " println( \"Value of a: \" + a )\n",
    "}"
   ]
  },
  {
   "cell_type": "markdown",
   "metadata": {},
   "source": [
    "### for 循环过滤\n",
    "```java\n",
    "for( var x <- List\n",
    "      if condition1; if condition2...\n",
    "   ){\n",
    "   statement(s);\n",
    "```\n",
    "使用分号(;)来为表达式添加一个或多个的过滤条件。"
   ]
  },
  {
   "cell_type": "code",
   "execution_count": 7,
   "metadata": {},
   "outputs": [
    {
     "name": "stdout",
     "output_type": "stream",
     "text": [
      "Value of a: 1\n",
      "Value of a: 2\n",
      "Value of a: 4\n",
      "Value of a: 5\n",
      "Value of a: 6\n",
      "Value of a: 7\n"
     ]
    },
    {
     "data": {
      "text/plain": [
       "\u001b[36ma\u001b[39m: \u001b[32mInt\u001b[39m = \u001b[32m0\u001b[39m\r\n",
       "\u001b[36mnumList\u001b[39m: \u001b[32mList\u001b[39m[\u001b[32mInt\u001b[39m] = \u001b[33mList\u001b[39m(\u001b[32m1\u001b[39m, \u001b[32m2\u001b[39m, \u001b[32m3\u001b[39m, \u001b[32m4\u001b[39m, \u001b[32m5\u001b[39m, \u001b[32m6\u001b[39m, \u001b[32m7\u001b[39m, \u001b[32m8\u001b[39m, \u001b[32m9\u001b[39m, \u001b[32m10\u001b[39m)"
      ]
     },
     "execution_count": 7,
     "metadata": {},
     "output_type": "execute_result"
    }
   ],
   "source": [
    "var a = 0;\n",
    "val numList = List(1,2,3,4,5,6,7,8,9,10);\n",
    "\n",
    "// for 循环\n",
    "for( a <- numList\n",
    "   if a != 3; if a < 8 ){\n",
    " println( \"Value of a: \" + a );\n",
    "}"
   ]
  },
  {
   "cell_type": "markdown",
   "metadata": {},
   "source": [
    "### for 使用 yield\n",
    "```java\n",
    "var retVal = for{ var x <- List\n",
    "     if condition1; if condition2...\n",
    "}yield x\n",
    "```\n",
    "大括号中用于保存变量和条件，`retVal` 是变量， 循环中的 `yield` 会把当前的元素记下来，保存在集合中，循环结束后将返回该集合。"
   ]
  },
  {
   "cell_type": "code",
   "execution_count": 8,
   "metadata": {},
   "outputs": [
    {
     "name": "stdout",
     "output_type": "stream",
     "text": [
      "Value of a: 1\n",
      "Value of a: 2\n",
      "Value of a: 4\n",
      "Value of a: 5\n",
      "Value of a: 6\n",
      "Value of a: 7\n"
     ]
    },
    {
     "data": {
      "text/html": [
       "<div class=\"jp-RenderedText\">\n",
       "<pre><code><span style=\"color: rgb(0, 187, 187)\"><span class=\"ansi-cyan-fg\">a</span></span>: <span style=\"color: rgb(0, 187, 0)\"><span class=\"ansi-green-fg\">Int</span></span> = <span style=\"color: rgb(0, 187, 0)\"><span class=\"ansi-green-fg\">0</span></span>\r\n",
       "<span style=\"color: rgb(0, 187, 187)\"><span class=\"ansi-cyan-fg\">numList</span></span>: <span style=\"color: rgb(0, 187, 0)\"><span class=\"ansi-green-fg\">List</span></span>[<span style=\"color: rgb(0, 187, 0)\"><span class=\"ansi-green-fg\">Int</span></span>] = <span style=\"color: yellow\"><span class=\"ansi-yellow-fg\">List</span></span>(<span style=\"color: rgb(0, 187, 0)\"><span class=\"ansi-green-fg\">1</span></span>, <span style=\"color: rgb(0, 187, 0)\"><span class=\"ansi-green-fg\">2</span></span>, <span style=\"color: rgb(0, 187, 0)\"><span class=\"ansi-green-fg\">3</span></span>, <span style=\"color: rgb(0, 187, 0)\"><span class=\"ansi-green-fg\">4</span></span>, <span style=\"color: rgb(0, 187, 0)\"><span class=\"ansi-green-fg\">5</span></span>, <span style=\"color: rgb(0, 187, 0)\"><span class=\"ansi-green-fg\">6</span></span>, <span style=\"color: rgb(0, 187, 0)\"><span class=\"ansi-green-fg\">7</span></span>, <span style=\"color: rgb(0, 187, 0)\"><span class=\"ansi-green-fg\">8</span></span>, <span style=\"color: rgb(0, 187, 0)\"><span class=\"ansi-green-fg\">9</span></span>, <span style=\"color: rgb(0, 187, 0)\"><span class=\"ansi-green-fg\">10</span></span>)\r\n",
       "<span style=\"color: rgb(0, 187, 187)\"><span class=\"ansi-cyan-fg\">retVal</span></span>: <span style=\"color: rgb(0, 187, 0)\"><span class=\"ansi-green-fg\">List</span></span>[<span style=\"color: rgb(0, 187, 0)\"><span class=\"ansi-green-fg\">Int</span></span>] = <span style=\"color: yellow\"><span class=\"ansi-yellow-fg\">List</span></span>(<span style=\"color: rgb(0, 187, 0)\"><span class=\"ansi-green-fg\">1</span></span>, <span style=\"color: rgb(0, 187, 0)\"><span class=\"ansi-green-fg\">2</span></span>, <span style=\"color: rgb(0, 187, 0)\"><span class=\"ansi-green-fg\">4</span></span>, <span style=\"color: rgb(0, 187, 0)\"><span class=\"ansi-green-fg\">5</span></span>, <span style=\"color: rgb(0, 187, 0)\"><span class=\"ansi-green-fg\">6</span></span>, <span style=\"color: rgb(0, 187, 0)\"><span class=\"ansi-green-fg\">7</span></span>)</code></pre>\n",
       "</div>"
      ],
      "text/plain": [
       "\u001b[36ma\u001b[39m: \u001b[32mInt\u001b[39m = \u001b[32m0\u001b[39m\r\n",
       "\u001b[36mnumList\u001b[39m: \u001b[32mList\u001b[39m[\u001b[32mInt\u001b[39m] = \u001b[33mList\u001b[39m(\u001b[32m1\u001b[39m, \u001b[32m2\u001b[39m, \u001b[32m3\u001b[39m, \u001b[32m4\u001b[39m, \u001b[32m5\u001b[39m, \u001b[32m6\u001b[39m, \u001b[32m7\u001b[39m, \u001b[32m8\u001b[39m, \u001b[32m9\u001b[39m, \u001b[32m10\u001b[39m)\r\n",
       "\u001b[36mretVal\u001b[39m: \u001b[32mList\u001b[39m[\u001b[32mInt\u001b[39m] = \u001b[33mList\u001b[39m(\u001b[32m1\u001b[39m, \u001b[32m2\u001b[39m, \u001b[32m4\u001b[39m, \u001b[32m5\u001b[39m, \u001b[32m6\u001b[39m, \u001b[32m7\u001b[39m)"
      ]
     },
     "metadata": {},
     "output_type": "display_data"
    }
   ],
   "source": [
    "var a = 0;\n",
    "val numList = List(1,2,3,4,5,6,7,8,9,10);\n",
    "\n",
    "// for 循环\n",
    "var retVal = for{ a <- numList \n",
    "                if a != 3; if a < 8\n",
    "              }yield a\n",
    "\n",
    "// 输出返回值\n",
    "for( a <- retVal){\n",
    " println( \"Value of a: \" + a );\n",
    "}"
   ]
  },
  {
   "cell_type": "markdown",
   "metadata": {},
   "source": [
    "## Break 语句\n",
    "当在循环中使用 `break` 语句，在执行到该语句时，就会中断循环并执行循环体之后的代码块。\n",
    "```java\n",
    "// 导入以下包\n",
    "import scala.util.control._\n",
    "\n",
    "// 创建 Breaks 对象\n",
    "val loop = new Breaks;\n",
    "\n",
    "// 在 breakable 中循环\n",
    "loop.breakable{\n",
    "    // 循环\n",
    "    for(...){\n",
    "       ....\n",
    "       // 循环中断\n",
    "       loop.break;\n",
    "   }\n",
    "}\n",
    "```"
   ]
  },
  {
   "cell_type": "code",
   "execution_count": 9,
   "metadata": {},
   "outputs": [
    {
     "name": "stdout",
     "output_type": "stream",
     "text": [
      "Value of a: 1\n",
      "Value of a: 2\n",
      "Value of a: 3\n",
      "Value of a: 4\n"
     ]
    },
    {
     "data": {
      "text/plain": [
       "\u001b[32mimport \u001b[39m\u001b[36mscala.util.control._\n",
       "\u001b[39m\r\n",
       "\u001b[36ma\u001b[39m: \u001b[32mInt\u001b[39m = \u001b[32m0\u001b[39m\r\n",
       "\u001b[36mnumList\u001b[39m: \u001b[32mList\u001b[39m[\u001b[32mInt\u001b[39m] = \u001b[33mList\u001b[39m(\u001b[32m1\u001b[39m, \u001b[32m2\u001b[39m, \u001b[32m3\u001b[39m, \u001b[32m4\u001b[39m, \u001b[32m5\u001b[39m, \u001b[32m6\u001b[39m, \u001b[32m7\u001b[39m, \u001b[32m8\u001b[39m, \u001b[32m9\u001b[39m, \u001b[32m10\u001b[39m)\r\n",
       "\u001b[36mloop\u001b[39m: \u001b[32mBreaks\u001b[39m = scala.util.control.Breaks@634d8b32"
      ]
     },
     "execution_count": 9,
     "metadata": {},
     "output_type": "execute_result"
    }
   ],
   "source": [
    "import scala.util.control._\n",
    "var a = 0;\n",
    "val numList = List(1,2,3,4,5,6,7,8,9,10);\n",
    "\n",
    "val loop = new Breaks;\n",
    "loop.breakable {\n",
    " for( a <- numList){\n",
    "    println( \"Value of a: \" + a );\n",
    "    if( a == 4 ){\n",
    "       loop.break;\n",
    "    }\n",
    " }\n",
    "}"
   ]
  },
  {
   "cell_type": "code",
   "execution_count": 10,
   "metadata": {},
   "outputs": [
    {
     "name": "stdout",
     "output_type": "stream",
     "text": [
      "Value of a: 1\n",
      "Value of b: 11\n",
      "Value of b: 12\n",
      "Value of a: 2\n",
      "Value of b: 11\n",
      "Value of b: 12\n",
      "Value of a: 3\n",
      "Value of b: 11\n",
      "Value of b: 12\n",
      "Value of a: 4\n",
      "Value of b: 11\n",
      "Value of b: 12\n",
      "Value of a: 5\n",
      "Value of b: 11\n",
      "Value of b: 12\n"
     ]
    },
    {
     "data": {
      "text/plain": [
       "\u001b[32mimport \u001b[39m\u001b[36mscala.util.control._\n",
       "\u001b[39m\r\n",
       "\u001b[36ma\u001b[39m: \u001b[32mInt\u001b[39m = \u001b[32m0\u001b[39m\r\n",
       "\u001b[36mb\u001b[39m: \u001b[32mInt\u001b[39m = \u001b[32m0\u001b[39m\r\n",
       "\u001b[36mnumList1\u001b[39m: \u001b[32mList\u001b[39m[\u001b[32mInt\u001b[39m] = \u001b[33mList\u001b[39m(\u001b[32m1\u001b[39m, \u001b[32m2\u001b[39m, \u001b[32m3\u001b[39m, \u001b[32m4\u001b[39m, \u001b[32m5\u001b[39m)\r\n",
       "\u001b[36mnumList2\u001b[39m: \u001b[32mList\u001b[39m[\u001b[32mInt\u001b[39m] = \u001b[33mList\u001b[39m(\u001b[32m11\u001b[39m, \u001b[32m12\u001b[39m, \u001b[32m13\u001b[39m)\r\n",
       "\u001b[36mouter\u001b[39m: \u001b[32mBreaks\u001b[39m = scala.util.control.Breaks@25a9b620\r\n",
       "\u001b[36minner\u001b[39m: \u001b[32mBreaks\u001b[39m = scala.util.control.Breaks@325f7da5"
      ]
     },
     "execution_count": 10,
     "metadata": {},
     "output_type": "execute_result"
    }
   ],
   "source": [
    "// 中断嵌套循环\n",
    "import scala.util.control._\n",
    "var a = 0;\n",
    "var b = 0;\n",
    "val numList1 = List(1,2,3,4,5);\n",
    "val numList2 = List(11,12,13);\n",
    "\n",
    "val outer = new Breaks;\n",
    "val inner = new Breaks;\n",
    "\n",
    "outer.breakable {\n",
    " for( a <- numList1){\n",
    "    println( \"Value of a: \" + a );\n",
    "    inner.breakable {\n",
    "       for( b <- numList2){\n",
    "          println( \"Value of b: \" + b );\n",
    "          if( b == 12 ){\n",
    "             inner.break;\n",
    "          }\n",
    "       }\n",
    "    } // 内嵌循环中断\n",
    " }\n",
    "} // 外部循环中断"
   ]
  }
 ],
 "metadata": {
  "kernelspec": {
   "display_name": "Scala",
   "language": "scala",
   "name": "scala"
  },
  "language_info": {
   "codemirror_mode": "text/x-scala",
   "file_extension": ".scala",
   "mimetype": "text/x-scala",
   "name": "scala",
   "nbconvert_exporter": "script",
   "version": "2.13.1"
  }
 },
 "nbformat": 4,
 "nbformat_minor": 4
}
