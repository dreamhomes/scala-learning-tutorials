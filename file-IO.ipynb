{
 "cells": [
  {
   "cell_type": "markdown",
   "metadata": {},
   "source": [
    "# 文件\n",
    "\n",
    "本文先介绍三种Scala的输入输出操作，待以后业务中的需求会添加其它操作方法！\n",
    "\n",
    "- 写文件：`PrintWriter`、\n",
    "- 终端输入：`StdIn`、\n",
    "- 读文件：`Source`、"
   ]
  },
  {
   "cell_type": "markdown",
   "metadata": {},
   "source": [
    "## 读写文件相关库"
   ]
  },
  {
   "cell_type": "code",
   "execution_count": 1,
   "metadata": {},
   "outputs": [
    {
     "data": {
      "text/plain": [
       "\u001b[32mimport \u001b[39m\u001b[36mjava.io._\n",
       "\u001b[39m\r\n",
       "\u001b[32mimport \u001b[39m\u001b[36mscala.io._\u001b[39m"
      ]
     },
     "execution_count": 1,
     "metadata": {},
     "output_type": "execute_result"
    }
   ],
   "source": [
    "import java.io._\n",
    "import scala.io._"
   ]
  },
  {
   "cell_type": "markdown",
   "metadata": {},
   "source": [
    "## 写文件"
   ]
  },
  {
   "cell_type": "code",
   "execution_count": 2,
   "metadata": {},
   "outputs": [
    {
     "data": {
      "text/plain": [
       "\u001b[36mwriter\u001b[39m: \u001b[32mPrintWriter\u001b[39m = java.io.PrintWriter@524e4f7d"
      ]
     },
     "execution_count": 2,
     "metadata": {},
     "output_type": "execute_result"
    }
   ],
   "source": [
    "val writer = new PrintWriter(new File(\"./output/test.txt\"))\n",
    "writer.write(\"Hi,dreamhomes!\\nScala test!\")\n",
    "writer.close()"
   ]
  },
  {
   "cell_type": "markdown",
   "metadata": {},
   "source": [
    "## 终端输入"
   ]
  },
  {
   "cell_type": "code",
   "execution_count": 3,
   "metadata": {},
   "outputs": [
    {
     "name": "stdin",
     "output_type": "stream",
     "text": [
      " Hi,dreamhomes!\n"
     ]
    },
    {
     "data": {
      "text/plain": [
       "\u001b[36mline\u001b[39m: \u001b[32mString\u001b[39m = \u001b[32m\"Hi,dreamhomes!\"\u001b[39m\r\n",
       "\u001b[36mres2_1\u001b[39m: \u001b[32mString\u001b[39m = \u001b[32m\"Hi,dreamhomes!\"\u001b[39m"
      ]
     },
     "execution_count": 3,
     "metadata": {},
     "output_type": "execute_result"
    }
   ],
   "source": [
    "val line = StdIn.readLine()\n",
    "line"
   ]
  },
  {
   "cell_type": "markdown",
   "metadata": {},
   "source": [
    "## 读入文件"
   ]
  },
  {
   "cell_type": "code",
   "execution_count": 4,
   "metadata": {},
   "outputs": [
    {
     "name": "stdout",
     "output_type": "stream",
     "text": [
      "Hi,dreamhomes!\n",
      "Scala test!"
     ]
    }
   ],
   "source": [
    "// 按字符读取\n",
    "Source.fromFile(\"output/test.txt\").foreach{print}"
   ]
  },
  {
   "cell_type": "code",
   "execution_count": 5,
   "metadata": {},
   "outputs": [
    {
     "name": "stdout",
     "output_type": "stream",
     "text": [
      "Hi,dreamhomes!\n",
      "Scala test!"
     ]
    },
    {
     "data": {
      "text/plain": [
       "\u001b[36msource\u001b[39m: \u001b[32mBufferedSource\u001b[39m = \u001b[32mempty iterator\u001b[39m"
      ]
     },
     "execution_count": 5,
     "metadata": {},
     "output_type": "execute_result"
    }
   ],
   "source": [
    "val source = Source.fromFile(\"output/test.txt\")\n",
    "for (c <- source) print(c)"
   ]
  },
  {
   "cell_type": "code",
   "execution_count": 6,
   "metadata": {},
   "outputs": [
    {
     "name": "stdout",
     "output_type": "stream",
     "text": [
      "Hi,dreamhomes!\n",
      "Scala test!\n"
     ]
    },
    {
     "data": {
      "text/plain": [
       "\u001b[36msource\u001b[39m: \u001b[32mBufferedSource\u001b[39m = \u001b[32mempty iterator\u001b[39m\r\n",
       "\u001b[36mlines\u001b[39m: \u001b[32mIterator\u001b[39m[\u001b[32mString\u001b[39m] = \u001b[32mempty iterator\u001b[39m"
      ]
     },
     "execution_count": 6,
     "metadata": {},
     "output_type": "execute_result"
    }
   ],
   "source": [
    "// 按行读取\n",
    "val source = Source.fromFile(\"output/test.txt\")\n",
    "val lines = source.getLines()\n",
    "for (line <- lines) println(line)\n",
    "source.close()"
   ]
  }
 ],
 "metadata": {
  "kernelspec": {
   "display_name": "Scala",
   "language": "scala",
   "name": "scala"
  },
  "language_info": {
   "codemirror_mode": "text/x-scala",
   "file_extension": ".scala",
   "mimetype": "text/x-scala",
   "name": "scala",
   "nbconvert_exporter": "script",
   "version": "2.13.1"
  }
 },
 "nbformat": 4,
 "nbformat_minor": 4
}
