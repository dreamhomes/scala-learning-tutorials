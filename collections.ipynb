{
 "cells": [
  {
   "cell_type": "markdown",
   "metadata": {},
   "source": [
    "## Scala Collection\n",
    "Scala提供了一套很好的集合实现，提供了一些集合类型的抽象。\n",
    "\n",
    "Scala 集合分为可变的和不可变的集合:\n",
    "- 可变集合可以在适当的地方被更新或扩展。这意味着你可以修改，添加，移除一个集合的元素。\n",
    "- 不可变集合类，相比之下，永远不会改变。可以模拟添加，移除或更新操作。但是这些操作将在每一种情况下都返回一个新的集合，同时使原来的集合不发生改变。\n",
    "\n",
    "常用集合类型：\n",
    "- Scala List(列表)：List的特征是其元素以线性方式存储，集合中可以存放重复对象。\n",
    "- Scala Set(集合)：Set是最简单的一种集合。集合中的对象不按特定的方式排序，并且没有重复对象。\n",
    "- Scala Map(映射)：Map 是一种把键对象和值对象映射的集合，它的每一个元素都包含一对键对象和值对象。\n",
    "- Scala 元组：元组是不同类型的值的集合\n",
    "- Scala Option：Option[T] 表示有可能包含值的容器，也可能不包含值。\n",
    "- Scala Iterator（迭代器）：迭代器不是一个容器，更确切的说是逐一访问容器内元素的方法。"
   ]
  },
  {
   "cell_type": "markdown",
   "metadata": {},
   "source": [
    "## List 列表\n",
    "Scala 列表类似于数组，它们所有元素的类型都相同，但是它们也有所不同：列表是不可变的，值一旦被定义了就不能改变，其次列表具有递归的结构（也就是链接表结构）而数组不是。"
   ]
  },
  {
   "cell_type": "code",
   "execution_count": 1,
   "metadata": {},
   "outputs": [
    {
     "data": {
      "text/plain": [
       "\u001b[36mname\u001b[39m: \u001b[32mList\u001b[39m[\u001b[32mString\u001b[39m] = \u001b[33mList\u001b[39m(\u001b[32m\"Shen\"\u001b[39m, \u001b[32m\"Meng\"\u001b[39m, \u001b[32m\"Jia\"\u001b[39m)\r\n",
       "\u001b[36mres0_1\u001b[39m: \u001b[32mList\u001b[39m[\u001b[32mString\u001b[39m] = \u001b[33mList\u001b[39m(\u001b[32m\"Shen\"\u001b[39m, \u001b[32m\"Meng\"\u001b[39m, \u001b[32m\"Jia\"\u001b[39m)"
      ]
     },
     "execution_count": 1,
     "metadata": {},
     "output_type": "execute_result"
    }
   ],
   "source": [
    "// 字符串列表\n",
    "val name: List[String] = List(\"Shen\", \"Meng\", \"Jia\")\n",
    "name"
   ]
  },
  {
   "cell_type": "code",
   "execution_count": 2,
   "metadata": {},
   "outputs": [
    {
     "data": {
      "text/plain": [
       "\u001b[36mnums\u001b[39m: \u001b[32mList\u001b[39m[\u001b[32mInt\u001b[39m] = \u001b[33mList\u001b[39m(\u001b[32m1\u001b[39m, \u001b[32m2\u001b[39m, \u001b[32m3\u001b[39m, \u001b[32m4\u001b[39m)\r\n",
       "\u001b[36mres1_1\u001b[39m: \u001b[32mList\u001b[39m[\u001b[32mInt\u001b[39m] = \u001b[33mList\u001b[39m(\u001b[32m1\u001b[39m, \u001b[32m2\u001b[39m, \u001b[32m3\u001b[39m, \u001b[32m4\u001b[39m)"
      ]
     },
     "execution_count": 2,
     "metadata": {},
     "output_type": "execute_result"
    }
   ],
   "source": [
    "// 整型列表\n",
    "val nums: List[Int] = List(1, 2, 3, 4)\n",
    "nums"
   ]
  },
  {
   "cell_type": "code",
   "execution_count": 3,
   "metadata": {},
   "outputs": [
    {
     "data": {
      "text/plain": [
       "\u001b[36mempty\u001b[39m: \u001b[32mList\u001b[39m[\u001b[32mNothing\u001b[39m] = \u001b[33mList\u001b[39m()"
      ]
     },
     "execution_count": 3,
     "metadata": {},
     "output_type": "execute_result"
    }
   ],
   "source": [
    "// 空列表\n",
    "val empty: List[Nothing] = List()"
   ]
  },
  {
   "cell_type": "code",
   "execution_count": 4,
   "metadata": {},
   "outputs": [
    {
     "data": {
      "text/plain": [
       "\u001b[36mdim\u001b[39m: \u001b[32mList\u001b[39m[\u001b[32mList\u001b[39m[\u001b[32mInt\u001b[39m]] = \u001b[33mList\u001b[39m(\u001b[33mList\u001b[39m(\u001b[32m1\u001b[39m, \u001b[32m0\u001b[39m, \u001b[32m0\u001b[39m), \u001b[33mList\u001b[39m(\u001b[32m0\u001b[39m, \u001b[32m1\u001b[39m, \u001b[32m0\u001b[39m), \u001b[33mList\u001b[39m(\u001b[32m0\u001b[39m, \u001b[32m0\u001b[39m, \u001b[32m1\u001b[39m))\r\n",
       "\u001b[36mres3_1\u001b[39m: \u001b[32mList\u001b[39m[\u001b[32mList\u001b[39m[\u001b[32mInt\u001b[39m]] = \u001b[33mList\u001b[39m(\u001b[33mList\u001b[39m(\u001b[32m1\u001b[39m, \u001b[32m0\u001b[39m, \u001b[32m0\u001b[39m), \u001b[33mList\u001b[39m(\u001b[32m0\u001b[39m, \u001b[32m1\u001b[39m, \u001b[32m0\u001b[39m), \u001b[33mList\u001b[39m(\u001b[32m0\u001b[39m, \u001b[32m0\u001b[39m, \u001b[32m1\u001b[39m))"
      ]
     },
     "execution_count": 4,
     "metadata": {},
     "output_type": "execute_result"
    }
   ],
   "source": [
    "// 二维列表\n",
    "val dim: List[List[Int]] =\n",
    "   List(\n",
    "      List(1, 0, 0),\n",
    "      List(0, 1, 0),\n",
    "      List(0, 0, 1)\n",
    "   )\n",
    "dim"
   ]
  },
  {
   "cell_type": "markdown",
   "metadata": {},
   "source": [
    "PS：构造列表的两个基本单位是 `Nil` 和 `::`，`Nil` 也可以表示为一个空列表。上述定义可以重新写为："
   ]
  },
  {
   "cell_type": "code",
   "execution_count": 5,
   "metadata": {},
   "outputs": [
    {
     "data": {
      "text/plain": [
       "\u001b[36msite\u001b[39m: \u001b[32mList\u001b[39m[\u001b[32mString\u001b[39m] = \u001b[33mList\u001b[39m(\u001b[32m\"Shen\"\u001b[39m, \u001b[32m\"Meng\"\u001b[39m, \u001b[32m\"Jia\"\u001b[39m)\r\n",
       "\u001b[36msite_simple\u001b[39m: \u001b[32mList\u001b[39m[\u001b[32mString\u001b[39m] = \u001b[33mList\u001b[39m(\u001b[32m\"Shen\"\u001b[39m, \u001b[32m\"Meng\"\u001b[39m, \u001b[32m\"Jia\"\u001b[39m)\r\n",
       "\u001b[36mnums\u001b[39m: \u001b[32mList\u001b[39m[\u001b[32mInt\u001b[39m] = \u001b[33mList\u001b[39m(\u001b[32m1\u001b[39m, \u001b[32m2\u001b[39m, \u001b[32m3\u001b[39m, \u001b[32m4\u001b[39m)\r\n",
       "\u001b[36mnums_simple\u001b[39m: \u001b[32mList\u001b[39m[\u001b[32mInt\u001b[39m] = \u001b[33mList\u001b[39m(\u001b[32m1\u001b[39m, \u001b[32m2\u001b[39m, \u001b[32m3\u001b[39m, \u001b[32m4\u001b[39m)\r\n",
       "\u001b[36mempty\u001b[39m: \u001b[32mNil\u001b[39m.type = \u001b[33mList\u001b[39m()\r\n",
       "\u001b[36mdim\u001b[39m: \u001b[32mList\u001b[39m[\u001b[32mList\u001b[39m[\u001b[32mInt\u001b[39m]] = \u001b[33mList\u001b[39m(\u001b[33mList\u001b[39m(\u001b[32m1\u001b[39m, \u001b[32m0\u001b[39m, \u001b[32m0\u001b[39m), \u001b[33mList\u001b[39m(\u001b[32m0\u001b[39m, \u001b[32m1\u001b[39m, \u001b[32m0\u001b[39m), \u001b[33mList\u001b[39m(\u001b[32m0\u001b[39m, \u001b[32m0\u001b[39m, \u001b[32m1\u001b[39m))"
      ]
     },
     "execution_count": 5,
     "metadata": {},
     "output_type": "execute_result"
    }
   ],
   "source": [
    "// 字符串列表\n",
    "val site = \"Shen\" :: (\"Meng\" :: (\"Jia\" :: Nil))\n",
    "val site_simple= \"Shen\" :: \"Meng\":: \"Jia\"::Nil\n",
    "\n",
    "// 整型列表\n",
    "val nums = 1 :: (2 :: (3 :: (4 :: Nil)))\n",
    "val nums_simple = 1 :: 2 :: 3 :: 4 :: Nil\n",
    "// 空列表\n",
    "val empty = Nil\n",
    "\n",
    "// 二维列表\n",
    "val dim = (1 :: (0 :: (0 :: Nil))) ::\n",
    "          (0 :: (1 :: (0 :: Nil))) ::\n",
    "          (0 :: (0 :: (1 :: Nil))) :: Nil"
   ]
  },
  {
   "cell_type": "markdown",
   "metadata": {},
   "source": [
    "PS：对于`::`操作符的解释：该操作被称为 `cons`，意为构造，向队列的头部追加数据创造新的列表。用法为 `x::list`,其中 x 为加入到头部的元素，无论 x是列表与否，它都只将成为新生成列表的第一个元素，`length+1`。(btw, `x::list`等价于`list.::(x)`)"
   ]
  },
  {
   "cell_type": "code",
   "execution_count": 6,
   "metadata": {},
   "outputs": [
    {
     "name": "stdout",
     "output_type": "stream",
     "text": [
      "List(site::site2List(dreamhomes, Google, Baidu), Facebook, Taobao)\n",
      "site::site2List(List(Facebook, Taobao), dreamhomes, Google, Baidu)\n",
      "site1 ::: site2 : List(dreamhomes, Google, Baidu, Facebook, Taobao)\n",
      "site1.:::(site2) : List(Facebook, Taobao, dreamhomes, Google, Baidu)\n",
      "List.concat(site1, site2) : List(dreamhomes, Google, Baidu, Facebook, Taobao)\n"
     ]
    },
    {
     "data": {
      "text/html": [
       "<div class=\"jp-RenderedText\">\n",
       "<pre><code><span style=\"color: rgb(0, 187, 187)\"><span class=\"ansi-cyan-fg\">site1</span></span>: <span style=\"color: rgb(0, 187, 0)\"><span class=\"ansi-green-fg\">List</span></span>[<span style=\"color: rgb(0, 187, 0)\"><span class=\"ansi-green-fg\">String</span></span>] = <span style=\"color: yellow\"><span class=\"ansi-yellow-fg\">List</span></span>(<span style=\"color: rgb(0, 187, 0)\"><span class=\"ansi-green-fg\">&quot;dreamhomes&quot;</span></span>, <span style=\"color: rgb(0, 187, 0)\"><span class=\"ansi-green-fg\">&quot;Google&quot;</span></span>, <span style=\"color: rgb(0, 187, 0)\"><span class=\"ansi-green-fg\">&quot;Baidu&quot;</span></span>)\r\n",
       "<span style=\"color: rgb(0, 187, 187)\"><span class=\"ansi-cyan-fg\">site2</span></span>: <span style=\"color: rgb(0, 187, 0)\"><span class=\"ansi-green-fg\">List</span></span>[<span style=\"color: rgb(0, 187, 0)\"><span class=\"ansi-green-fg\">String</span></span>] = <span style=\"color: yellow\"><span class=\"ansi-yellow-fg\">List</span></span>(<span style=\"color: rgb(0, 187, 0)\"><span class=\"ansi-green-fg\">&quot;Facebook&quot;</span></span>, <span style=\"color: rgb(0, 187, 0)\"><span class=\"ansi-green-fg\">&quot;Taobao&quot;</span></span>)\r\n",
       "<span style=\"color: rgb(0, 187, 187)\"><span class=\"ansi-cyan-fg\">fruit</span></span>: <span style=\"color: rgb(0, 187, 0)\"><span class=\"ansi-green-fg\">List</span></span>[<span style=\"color: rgb(0, 187, 0)\"><span class=\"ansi-green-fg\">String</span></span>] = <span style=\"color: yellow\"><span class=\"ansi-yellow-fg\">List</span></span>(\n",
       "  <span style=\"color: rgb(0, 187, 0)\"><span class=\"ansi-green-fg\">&quot;dreamhomes&quot;</span></span>,\n",
       "  <span style=\"color: rgb(0, 187, 0)\"><span class=\"ansi-green-fg\">&quot;Google&quot;</span></span>,\n",
       "  <span style=\"color: rgb(0, 187, 0)\"><span class=\"ansi-green-fg\">&quot;Baidu&quot;</span></span>,\n",
       "  <span style=\"color: rgb(0, 187, 0)\"><span class=\"ansi-green-fg\">&quot;Facebook&quot;</span></span>,\n",
       "  <span style=\"color: rgb(0, 187, 0)\"><span class=\"ansi-green-fg\">&quot;Taobao&quot;</span></span>\n",
       ")</code></pre>\n",
       "</div>"
      ],
      "text/plain": [
       "\u001b[36msite1\u001b[39m: \u001b[32mList\u001b[39m[\u001b[32mString\u001b[39m] = \u001b[33mList\u001b[39m(\u001b[32m\"dreamhomes\"\u001b[39m, \u001b[32m\"Google\"\u001b[39m, \u001b[32m\"Baidu\"\u001b[39m)\r\n",
       "\u001b[36msite2\u001b[39m: \u001b[32mList\u001b[39m[\u001b[32mString\u001b[39m] = \u001b[33mList\u001b[39m(\u001b[32m\"Facebook\"\u001b[39m, \u001b[32m\"Taobao\"\u001b[39m)\r\n",
       "\u001b[36mfruit\u001b[39m: \u001b[32mList\u001b[39m[\u001b[32mString\u001b[39m] = \u001b[33mList\u001b[39m(\n",
       "  \u001b[32m\"dreamhomes\"\u001b[39m,\n",
       "  \u001b[32m\"Google\"\u001b[39m,\n",
       "  \u001b[32m\"Baidu\"\u001b[39m,\n",
       "  \u001b[32m\"Facebook\"\u001b[39m,\n",
       "  \u001b[32m\"Taobao\"\u001b[39m\n",
       ")"
      ]
     },
     "metadata": {},
     "output_type": "display_data"
    }
   ],
   "source": [
    "val site1 = \"dreamhomes\" :: \"Google\" :: \"Baidu\" :: Nil\n",
    "val site2 = \"Facebook\" :: \"Taobao\" :: Nil\n",
    "\n",
    "// 使用 :: 运算符\n",
    "println(\"site::site2\"+site1::site2)\n",
    "println(\"site::site2\"+site1.::(site2))\n",
    "// 使用 ::: 运算符\n",
    "var fruit = site1 ::: site2\n",
    "println( \"site1 ::: site2 : \" + fruit )\n",
    "\n",
    "// 使用 List.:::() 方法\n",
    "fruit = site1.:::(site2)\n",
    "println( \"site1.:::(site2) : \" + fruit )\n",
    "\n",
    "// 使用 concat 方法\n",
    "fruit = List.concat(site1, site2)\n",
    "println( \"List.concat(site1, site2) : \" + fruit  )"
   ]
  },
  {
   "cell_type": "markdown",
   "metadata": {},
   "source": [
    "## 列表基本操作\n",
    "Scala列表有三个基本操作：\n",
    "- `head` 返回列表第一个元素\n",
    "- `tail` 返回一个列表，包含除了第一元素之外的其他元素\n",
    "- `isEmpty` 在列表为空时返回true"
   ]
  },
  {
   "cell_type": "code",
   "execution_count": 7,
   "metadata": {},
   "outputs": [
    {
     "name": "stdout",
     "output_type": "stream",
     "text": [
      "第一元素是 : Shen\n",
      "最后元素是 : List(Meng, JIa)\n",
      "查看列表 site 是否为空 : false\n",
      "查看 nums 是否为空 : true\n"
     ]
    },
    {
     "data": {
      "text/plain": [
       "\u001b[36mname\u001b[39m: \u001b[32mList\u001b[39m[\u001b[32mString\u001b[39m] = \u001b[33mList\u001b[39m(\u001b[32m\"Shen\"\u001b[39m, \u001b[32m\"Meng\"\u001b[39m, \u001b[32m\"JIa\"\u001b[39m)\r\n",
       "\u001b[36mnums\u001b[39m: \u001b[32mNil\u001b[39m.type = \u001b[33mList\u001b[39m()"
      ]
     },
     "execution_count": 7,
     "metadata": {},
     "output_type": "execute_result"
    }
   ],
   "source": [
    "val name = \"Shen\"::\"Meng\"::\"JIa\"::Nil\n",
    "val nums = Nil\n",
    "\n",
    "println( \"第一元素是 : \" + name.head )\n",
    "println( \"最后元素是 : \" + name.tail )\n",
    "println( \"查看列表 site 是否为空 : \" + name.isEmpty )\n",
    "println( \"查看 nums 是否为空 : \" + nums.isEmpty )"
   ]
  },
  {
   "cell_type": "markdown",
   "metadata": {},
   "source": [
    "**对于列表操作方法很多，可以参考语法教程：[Scala List](https://www.scala-lang.org/api/current/scala/collection/immutable/List.html)**"
   ]
  },
  {
   "cell_type": "markdown",
   "metadata": {},
   "source": [
    "## Set 集合\n",
    "Scala Set(集合)是没有重复的对象集合，所有的元素都是唯一的。\n",
    "\n",
    "Scala 集合分为可变的和不可变的集合。\n",
    "\n",
    "默认情况下，Scala 使用的是不可变集合，如果你想使用可变集合，需要引用 `scala.collection.mutable.Set` 包。"
   ]
  },
  {
   "cell_type": "code",
   "execution_count": 8,
   "metadata": {},
   "outputs": [
    {
     "name": "stdout",
     "output_type": "stream",
     "text": [
      "scala.collection.immutable.Set$Set3\n",
      "true\n",
      "Set(2, 3)\n"
     ]
    },
    {
     "data": {
      "text/plain": [
       "\u001b[36mset\u001b[39m: \u001b[32mSet\u001b[39m[\u001b[32mInt\u001b[39m] = \u001b[33mSet\u001b[39m(\u001b[32m1\u001b[39m, \u001b[32m2\u001b[39m, \u001b[32m3\u001b[39m)"
      ]
     },
     "execution_count": 8,
     "metadata": {},
     "output_type": "execute_result"
    }
   ],
   "source": [
    "// 不可变set\n",
    "val set = Set(1,2,3)\n",
    "println(set.getClass.getName)\n",
    "\n",
    "println(set.exists(_ % 2 == 0))\n",
    "println(set.drop(1))"
   ]
  },
  {
   "cell_type": "code",
   "execution_count": 9,
   "metadata": {},
   "outputs": [
    {
     "name": "stdout",
     "output_type": "stream",
     "text": [
      "scala.collection.mutable.HashSet\n",
      "HashSet(3, 4, 5)\n",
      "scala.collection.immutable.Set$Set3\n"
     ]
    },
    {
     "data": {
      "text/plain": [
       "\u001b[32mimport \u001b[39m\u001b[36mscala.collection.mutable.Set // 可以在任何地方引入 可变集合\n",
       "\n",
       "\u001b[39m\r\n",
       "\u001b[36mmutableSet\u001b[39m: \u001b[32mSet\u001b[39m[\u001b[32mInt\u001b[39m] = \u001b[33mHashSet\u001b[39m(\u001b[32m3\u001b[39m, \u001b[32m4\u001b[39m, \u001b[32m5\u001b[39m)\r\n",
       "\u001b[36mres8_3\u001b[39m: \u001b[32mBoolean\u001b[39m = true\r\n",
       "\u001b[36mres8_4\u001b[39m: \u001b[32mBoolean\u001b[39m = true\r\n",
       "\u001b[36mres8_5\u001b[39m: \u001b[32mSet\u001b[39m[\u001b[32mInt\u001b[39m] = \u001b[33mHashSet\u001b[39m(\u001b[32m3\u001b[39m, \u001b[32m4\u001b[39m, \u001b[32m5\u001b[39m)\r\n",
       "\u001b[36mres8_6\u001b[39m: \u001b[32mSet\u001b[39m[\u001b[32mInt\u001b[39m] = \u001b[33mHashSet\u001b[39m(\u001b[32m3\u001b[39m, \u001b[32m4\u001b[39m, \u001b[32m5\u001b[39m)\r\n",
       "\u001b[36manother\u001b[39m: \u001b[32mcollection\u001b[39m.\u001b[32mimmutable\u001b[39m.\u001b[32mSet\u001b[39m[\u001b[32mInt\u001b[39m] = \u001b[33mSet\u001b[39m(\u001b[32m3\u001b[39m, \u001b[32m4\u001b[39m, \u001b[32m5\u001b[39m)"
      ]
     },
     "execution_count": 9,
     "metadata": {},
     "output_type": "execute_result"
    }
   ],
   "source": [
    "// 可变 set\n",
    "import scala.collection.mutable.Set // 可以在任何地方引入 可变集合\n",
    "\n",
    "val mutableSet = Set(1,2,3)\n",
    "println(mutableSet.getClass.getName) // scala.collection.mutable.HashSet\n",
    "\n",
    "mutableSet.add(4)\n",
    "mutableSet.remove(1)\n",
    "mutableSet += 5\n",
    "mutableSet -= 2\n",
    "\n",
    "println(mutableSet) \n",
    "\n",
    "val another = mutableSet.toSet\n",
    "println(another.getClass.getName) // scala.collection.immutable.Set"
   ]
  },
  {
   "cell_type": "markdown",
   "metadata": {},
   "source": [
    "**PS**：虽然可变Set和不可变Set都有添加或删除元素的操作，但是有一个非常大的差别。对不可变Set进行操作，会产生一个新的set，原来的set并没有改变，这与List一样。 而对可变Set进行操作，改变的是该Set本身，与ListBuffer类似。"
   ]
  },
  {
   "cell_type": "markdown",
   "metadata": {},
   "source": [
    "**操作方法参考 [Scala Sets](https://www.scala-lang.org/api/current/scala/collection/immutable/List.html)**"
   ]
  },
  {
   "cell_type": "markdown",
   "metadata": {},
   "source": [
    "## Map 映射\n",
    "Map(映射)是一种可迭代的键值对（key/value）结构。所有的值都可以通过键来获取。Map 中的键都是唯一的。\n",
    "\n",
    "Map 也叫哈希表（Hash tables），与`python`中的字典类似。\n",
    "\n",
    "默认情况下 Scala 使用不可变 Map。如果你需要使用可变集合，你需要显式的引入 `import scala.collection.mutable.Map` 类。在 Scala 中 你可以同时使用可变与不可变 Map，不可变的直接使用 Map，可变的使用 `mutable.Map`。"
   ]
  },
  {
   "cell_type": "code",
   "execution_count": 10,
   "metadata": {},
   "outputs": [
    {
     "data": {
      "text/plain": [
       "\u001b[36mA\u001b[39m: \u001b[32mMap\u001b[39m[\u001b[32mChar\u001b[39m, \u001b[32mInt\u001b[39m] = \u001b[33mMap\u001b[39m()\r\n",
       "\u001b[36mcolors\u001b[39m: \u001b[32mMap\u001b[39m[\u001b[32mString\u001b[39m, \u001b[32mString\u001b[39m] = \u001b[33mMap\u001b[39m(\u001b[32m\"red\"\u001b[39m -> \u001b[32m\"#FF0000\"\u001b[39m, \u001b[32m\"azure\"\u001b[39m -> \u001b[32m\"#F0FFFF\"\u001b[39m)"
      ]
     },
     "execution_count": 10,
     "metadata": {},
     "output_type": "execute_result"
    }
   ],
   "source": [
    "// 空哈希表，键为字符串，值为整型\n",
    "var A:Map[Char,Int] = Map()\n",
    "\n",
    "// Map 键值对演示\n",
    "val colors = Map(\"red\" -> \"#FF0000\", \"azure\" -> \"#F0FFFF\")"
   ]
  },
  {
   "cell_type": "code",
   "execution_count": 11,
   "metadata": {},
   "outputs": [
    {
     "data": {
      "text/plain": [
       "\u001b[36mres10_2\u001b[39m: \u001b[32mMap\u001b[39m[\u001b[32mChar\u001b[39m, \u001b[32mInt\u001b[39m] = \u001b[33mMap\u001b[39m(\u001b[32m'I'\u001b[39m -> \u001b[32m1\u001b[39m, \u001b[32m'J'\u001b[39m -> \u001b[32m5\u001b[39m)"
      ]
     },
     "execution_count": 11,
     "metadata": {},
     "output_type": "execute_result"
    }
   ],
   "source": [
    "//定义 Map 时，需要为键值对定义类型。如果需要添加 key-value 对，可以使用 + 号\n",
    "A += ('I' -> 1)\n",
    "A += ('J' -> 5)\n",
    "A"
   ]
  },
  {
   "cell_type": "code",
   "execution_count": 12,
   "metadata": {},
   "outputs": [
    {
     "name": "stdout",
     "output_type": "stream",
     "text": [
      "colors 中的键为 : Set(red, azure, peru)\n",
      "colors 中的值为 : Iterable(#FF0000, #F0FFFF, #CD853F)\n",
      "检测 colors 是否为空 : false\n",
      "检测 nums 是否为空 : true\n",
      "检测是否包含键值red：true\n",
      "输出键值对：\n",
      "Key = red Value = #FF0000\n",
      "Key = azure Value = #F0FFFF\n",
      "Key = peru Value = #CD853F\n"
     ]
    },
    {
     "data": {
      "text/plain": [
       "\u001b[36mcolors\u001b[39m: \u001b[32mMap\u001b[39m[\u001b[32mString\u001b[39m, \u001b[32mString\u001b[39m] = \u001b[33mMap\u001b[39m(\n",
       "  \u001b[32m\"red\"\u001b[39m -> \u001b[32m\"#FF0000\"\u001b[39m,\n",
       "  \u001b[32m\"azure\"\u001b[39m -> \u001b[32m\"#F0FFFF\"\u001b[39m,\n",
       "  \u001b[32m\"peru\"\u001b[39m -> \u001b[32m\"#CD853F\"\u001b[39m\n",
       ")\r\n",
       "\u001b[36mnums\u001b[39m: \u001b[32mMap\u001b[39m[\u001b[32mInt\u001b[39m, \u001b[32mInt\u001b[39m] = \u001b[33mMap\u001b[39m()"
      ]
     },
     "execution_count": 12,
     "metadata": {},
     "output_type": "execute_result"
    }
   ],
   "source": [
    "// Map 访问\n",
    "val colors = Map(\"red\" -> \"#FF0000\",\n",
    "               \"azure\" -> \"#F0FFFF\",\n",
    "               \"peru\" -> \"#CD853F\")\n",
    "\n",
    "val nums: Map[Int, Int] = Map()\n",
    "\n",
    "println( \"colors 中的键为 : \" + colors.keys )\n",
    "println( \"colors 中的值为 : \" + colors.values )\n",
    "println( \"检测 colors 是否为空 : \" + colors.isEmpty )\n",
    "println( \"检测 nums 是否为空 : \" + nums.isEmpty )\n",
    "\n",
    "println(\"检测是否包含键值red：\" + colors.contains(\"red\"))\n",
    "\n",
    "println(\"输出键值对：\")\n",
    "colors.keys.foreach{ i =>  \n",
    "                           print( \"Key = \" + i )\n",
    "                           println(\" Value = \" + colors(i))}"
   ]
  },
  {
   "cell_type": "markdown",
   "metadata": {},
   "source": [
    "PS：`=>`表示匿名函数，`(形参列表) => {函数体}`，例如：`(x:Int) => x +1` 等同于 `lambda x:x+1` "
   ]
  },
  {
   "cell_type": "markdown",
   "metadata": {},
   "source": [
    "**其它操作方法参考：[Scala Map](https://www.scala-lang.org/api/current/scala/collection/immutable/Map.html)**"
   ]
  },
  {
   "cell_type": "markdown",
   "metadata": {},
   "source": [
    "## Tuple 元组\n",
    "与列表一样，元组也是不可变的，但与列表不同的是元组可以包含不同类型的元素。\n",
    "\n",
    "元组的值是通过将单个的值包含在圆括号中构成的。"
   ]
  },
  {
   "cell_type": "code",
   "execution_count": 13,
   "metadata": {},
   "outputs": [
    {
     "name": "stdout",
     "output_type": "stream",
     "text": [
      "4.140000000000001\n",
      "Value = 1\n",
      "Value = 3.14\n",
      "Value = Fred\n"
     ]
    },
    {
     "data": {
      "text/plain": [
       "\u001b[36mt\u001b[39m: (\u001b[32mInt\u001b[39m, \u001b[32mDouble\u001b[39m, \u001b[32mString\u001b[39m) = (\u001b[32m1\u001b[39m, \u001b[32m3.14\u001b[39m, \u001b[32m\"Fred\"\u001b[39m)"
      ]
     },
     "execution_count": 13,
     "metadata": {},
     "output_type": "execute_result"
    }
   ],
   "source": [
    "val t = (1, 3.14, \"Fred\") \n",
    "//val t1 = new Tuple3(1, 3.14, \"Fred\")\n",
    "\n",
    "//访问元组中的元素\n",
    "println(t._1 + t._2)\n",
    "\n",
    "// 迭代输出\n",
    "t.productIterator.foreach{ i =>println(\"Value = \" + i )}"
   ]
  },
  {
   "cell_type": "markdown",
   "metadata": {},
   "source": [
    "**更多操作参考：[Scala Tuple3](https://www.scala-lang.org/api/current/scala/Tuple3.html)**"
   ]
  },
  {
   "cell_type": "markdown",
   "metadata": {},
   "source": [
    "## Option 选项\n",
    "Scala Option(选项)类型用来表示一个值是可选的（有值或无值)。\n",
    "\n",
    "`Option[T]` 是一个类型为 `T` 的可选值的容器： 如果值存在， `Option[T]` 就是一个 `Some[T]` ，如果不存在， `Option[T]` 就是对象 `None` 。\n",
    "\n",
    "Option 有两个子类别，一个是 Some，一个是 None，当他回传 Some 的时候，代表这个函式成功地给了你一个 String，而你可以透过 get() 这个函式拿到那个 String，如果他返回的是 None，则代表没有字符串可以给你。"
   ]
  },
  {
   "cell_type": "code",
   "execution_count": 14,
   "metadata": {},
   "outputs": [
    {
     "data": {
      "text/plain": [
       "\u001b[36mmyMap\u001b[39m: \u001b[32mMap\u001b[39m[\u001b[32mString\u001b[39m, \u001b[32mString\u001b[39m] = \u001b[33mMap\u001b[39m(\u001b[32m\"key1\"\u001b[39m -> \u001b[32m\"value\"\u001b[39m)\r\n",
       "\u001b[36mvalue1\u001b[39m: \u001b[32mOption\u001b[39m[\u001b[32mString\u001b[39m] = \u001b[33mSome\u001b[39m(\u001b[32m\"value\"\u001b[39m)\r\n",
       "\u001b[36mvalue2\u001b[39m: \u001b[32mOption\u001b[39m[\u001b[32mString\u001b[39m] = \u001b[32mNone\u001b[39m\r\n",
       "\u001b[36mres13_3\u001b[39m: \u001b[32mOption\u001b[39m[\u001b[32mString\u001b[39m] = \u001b[33mSome\u001b[39m(\u001b[32m\"value\"\u001b[39m)\r\n",
       "\u001b[36mres13_4\u001b[39m: \u001b[32mOption\u001b[39m[\u001b[32mString\u001b[39m] = \u001b[32mNone\u001b[39m"
      ]
     },
     "execution_count": 14,
     "metadata": {},
     "output_type": "execute_result"
    }
   ],
   "source": [
    "val myMap: Map[String, String] = Map(\"key1\" -> \"value\")\n",
    "val value1: Option[String] = myMap.get(\"key1\")\n",
    "val value2: Option[String] = myMap.get(\"key2\")\n",
    " \n",
    "value1\n",
    "value2"
   ]
  },
  {
   "cell_type": "code",
   "execution_count": 15,
   "metadata": {},
   "outputs": [
    {
     "data": {
      "text/plain": [
       "defined \u001b[32mfunction\u001b[39m \u001b[36mshow\u001b[39m\r\n",
       "\u001b[36mres14_1\u001b[39m: \u001b[32mString\u001b[39m = \u001b[32m\"value\"\u001b[39m\r\n",
       "\u001b[36mres14_2\u001b[39m: \u001b[32mString\u001b[39m = \u001b[32m\"?\"\u001b[39m"
      ]
     },
     "execution_count": 15,
     "metadata": {},
     "output_type": "execute_result"
    }
   ],
   "source": [
    "// 可以通过模式匹配来输出匹配值\n",
    "def show(x: Option[String]) = x match {\n",
    "  case Some(s) => s\n",
    "  case None => \"?\"\n",
    "}\n",
    "show(value1)\n",
    "show(value2)"
   ]
  },
  {
   "cell_type": "markdown",
   "metadata": {},
   "source": [
    "**更多操作方法参考：[Scala Option](https://www.scala-lang.org/api/current/scala/Option.html)**"
   ]
  },
  {
   "cell_type": "markdown",
   "metadata": {},
   "source": [
    "## Iterator 迭代器\n",
    "Scala Iterator（迭代器）不是一个集合，它是一种用于访问集合的方法。\n",
    "\n",
    "迭代器 it 的两个基本操作是 next 和 hasNext：\n",
    "- 调用 `it.next()` 会返回迭代器的下一个元素，并且更新迭代器的状态。\n",
    "- 调用 `it.hasNext()` 用于检测集合中是否还有元素。\n",
    "\n",
    "让迭代器 `it` 逐个返回所有元素最简单的方法是使用 `while` 循环。"
   ]
  },
  {
   "cell_type": "code",
   "execution_count": 16,
   "metadata": {},
   "outputs": [
    {
     "name": "stdout",
     "output_type": "stream",
     "text": [
      "Baidu\n",
      "Google\n",
      "Dreamhomes\n",
      "Taobao\n"
     ]
    },
    {
     "data": {
      "text/plain": [
       "\u001b[36mit\u001b[39m: \u001b[32mIterator\u001b[39m[\u001b[32mString\u001b[39m] = \u001b[32mempty iterator\u001b[39m"
      ]
     },
     "execution_count": 16,
     "metadata": {},
     "output_type": "execute_result"
    }
   ],
   "source": [
    "val it = Iterator(\"Baidu\", \"Google\", \"Dreamhomes\", \"Taobao\")\n",
    "\n",
    "while (it.hasNext){\n",
    " println(it.next())\n",
    "}"
   ]
  },
  {
   "cell_type": "markdown",
   "metadata": {},
   "source": [
    "**更多方法参考：[Scala Iterator](https://www.scala-lang.org/api/current/scala/collection/Iterator.html)**"
   ]
  }
 ],
 "metadata": {
  "kernelspec": {
   "display_name": "Scala",
   "language": "scala",
   "name": "scala"
  },
  "language_info": {
   "codemirror_mode": "text/x-scala",
   "file_extension": ".scala",
   "mimetype": "text/x-scala",
   "name": "scala",
   "nbconvert_exporter": "script",
   "version": "2.13.1"
  }
 },
 "nbformat": 4,
 "nbformat_minor": 4
}
