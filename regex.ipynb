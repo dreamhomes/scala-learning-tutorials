{
 "cells": [
  {
   "cell_type": "markdown",
   "metadata": {},
   "source": [
    "## Scala 正则表达式"
   ]
  },
  {
   "cell_type": "markdown",
   "metadata": {},
   "source": [
    "Scala 通过 `scala.util.matching` 包中的 `Regex` 类来支持正则表达式。"
   ]
  },
  {
   "cell_type": "code",
   "execution_count": 1,
   "metadata": {},
   "outputs": [
    {
     "name": "stdout",
     "output_type": "stream",
     "text": [
      "Some(Scala)\n"
     ]
    },
    {
     "data": {
      "text/plain": [
       "\u001b[36mpattern\u001b[39m: \u001b[32mscala\u001b[39m.\u001b[32mutil\u001b[39m.\u001b[32mmatching\u001b[39m.\u001b[32mRegex\u001b[39m = Scala\r\n",
       "\u001b[36mstr\u001b[39m: \u001b[32mString\u001b[39m = \u001b[32m\"Scala is Scalable and cool\"\u001b[39m"
      ]
     },
     "execution_count": 1,
     "metadata": {},
     "output_type": "execute_result"
    }
   ],
   "source": [
    "// 使用正则表达式查找单词 Scala \n",
    "val pattern = \"Scala\".r\n",
    "val str = \"Scala is Scalable and cool\"\n",
    "\n",
    "println(pattern findFirstIn str)"
   ]
  },
  {
   "cell_type": "markdown",
   "metadata": {},
   "source": [
    "实例中使用 String 类的 `r()` 方法构造了一个 `Regex` 对象。\n",
    "\n",
    "然后使用 `findFirstIn` 方法找到首个匹配项。\n",
    "\n",
    "如果需要查看所有的匹配项可以使用 `findAllIn` 方法。可以使用 `mkString()` 方法来连接正则表达式匹配结果的字符串，并可以使用管道`(|)` 来设置不同的模式："
   ]
  },
  {
   "cell_type": "code",
   "execution_count": 2,
   "metadata": {},
   "outputs": [
    {
     "name": "stdout",
     "output_type": "stream",
     "text": [
      "Scala,scala\n"
     ]
    },
    {
     "data": {
      "text/plain": [
       "\u001b[32mimport \u001b[39m\u001b[36mscala.util.matching.Regex\n",
       "\n",
       "\u001b[39m\r\n",
       "\u001b[36mpattern\u001b[39m: \u001b[32mRegex\u001b[39m = (S|s)cala\r\n",
       "\u001b[36mstr\u001b[39m: \u001b[32mString\u001b[39m = \u001b[32m\"Scala is scalable and cool\"\u001b[39m"
      ]
     },
     "execution_count": 2,
     "metadata": {},
     "output_type": "execute_result"
    }
   ],
   "source": [
    "import scala.util.matching.Regex\n",
    "\n",
    "val pattern = new Regex(\"(S|s)cala\")  // 首字母可以是大写 S 或小写 s\n",
    "val str = \"Scala is scalable and cool\"\n",
    "\n",
    "println((pattern findAllIn str).mkString(\",\"))   // 使用逗号 , 连接返回结果"
   ]
  },
  {
   "cell_type": "markdown",
   "metadata": {},
   "source": [
    "如果需要将匹配的文本替换为指定的关键词，可以使用 `replaceFirstIn()` 方法来替换第一个匹配项，使用 `replaceAllIn()` 方法替换所有匹配项:"
   ]
  },
  {
   "cell_type": "code",
   "execution_count": 3,
   "metadata": {},
   "outputs": [
    {
     "name": "stdout",
     "output_type": "stream",
     "text": [
      "Java is scalable and cool\n"
     ]
    },
    {
     "data": {
      "text/plain": [
       "\u001b[36mpattern\u001b[39m: \u001b[32mRegex\u001b[39m = (S|s)cala\r\n",
       "\u001b[36mstr\u001b[39m: \u001b[32mString\u001b[39m = \u001b[32m\"Scala is scalable and cool\"\u001b[39m"
      ]
     },
     "execution_count": 3,
     "metadata": {},
     "output_type": "execute_result"
    }
   ],
   "source": [
    "val pattern = \"(S|s)cala\".r\n",
    "val str = \"Scala is scalable and cool\"\n",
    "\n",
    "println(pattern replaceFirstIn(str, \"Java\"))"
   ]
  },
  {
   "cell_type": "markdown",
   "metadata": {},
   "source": [
    "Scala 的正则表达式继承了 Java 的语法规则，Java 则大部分使用了 Perl 语言的规则。给出正则表达式示例：\n",
    "\n",
    "![](https://img-blog.csdnimg.cn/20200508204552903.png)"
   ]
  }
 ],
 "metadata": {
  "kernelspec": {
   "display_name": "Scala",
   "language": "scala",
   "name": "scala"
  },
  "language_info": {
   "codemirror_mode": "text/x-scala",
   "file_extension": ".scala",
   "mimetype": "text/x-scala",
   "name": "scala",
   "nbconvert_exporter": "script",
   "version": "2.13.1"
  }
 },
 "nbformat": 4,
 "nbformat_minor": 4
}
